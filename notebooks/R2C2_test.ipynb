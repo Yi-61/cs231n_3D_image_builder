{
 "cells": [
  {
   "cell_type": "code",
   "execution_count": 15,
   "metadata": {},
   "outputs": [],
   "source": [
    "import numpy as np\n",
    "import tensorflow as tf\n",
    "import os\n",
    "import settings\n",
    "from PIL import Image\n",
    "import matplotlib.pyplot as plt"
   ]
  },
  {
   "cell_type": "code",
   "execution_count": 16,
   "metadata": {},
   "outputs": [],
   "source": [
    "dir = os.path.join(settings.ROOT_DIR, 'data', 'sample');"
   ]
  },
  {
   "cell_type": "code",
   "execution_count": 21,
   "metadata": {},
   "outputs": [
    {
     "name": "stdout",
     "output_type": "stream",
     "text": [
      "D:\\Documents\\Classes\\CS231n\\cs231n_Project\\data\\sample\\00.png\n",
      "D:\\Documents\\Classes\\CS231n\\cs231n_Project\\data\\sample\\01.png\n",
      "D:\\Documents\\Classes\\CS231n\\cs231n_Project\\data\\sample\\02.png\n",
      "D:\\Documents\\Classes\\CS231n\\cs231n_Project\\data\\sample\\03.png\n",
      "D:\\Documents\\Classes\\CS231n\\cs231n_Project\\data\\sample\\04.png\n",
      "D:\\Documents\\Classes\\CS231n\\cs231n_Project\\data\\sample\\05.png\n",
      "D:\\Documents\\Classes\\CS231n\\cs231n_Project\\data\\sample\\06.png\n",
      "D:\\Documents\\Classes\\CS231n\\cs231n_Project\\data\\sample\\07.png\n",
      "D:\\Documents\\Classes\\CS231n\\cs231n_Project\\data\\sample\\08.png\n",
      "D:\\Documents\\Classes\\CS231n\\cs231n_Project\\data\\sample\\09.png\n",
      "D:\\Documents\\Classes\\CS231n\\cs231n_Project\\data\\sample\\10.png\n",
      "D:\\Documents\\Classes\\CS231n\\cs231n_Project\\data\\sample\\11.png\n",
      "D:\\Documents\\Classes\\CS231n\\cs231n_Project\\data\\sample\\12.png\n",
      "D:\\Documents\\Classes\\CS231n\\cs231n_Project\\data\\sample\\13.png\n",
      "D:\\Documents\\Classes\\CS231n\\cs231n_Project\\data\\sample\\14.png\n",
      "D:\\Documents\\Classes\\CS231n\\cs231n_Project\\data\\sample\\15.png\n",
      "D:\\Documents\\Classes\\CS231n\\cs231n_Project\\data\\sample\\16.png\n",
      "D:\\Documents\\Classes\\CS231n\\cs231n_Project\\data\\sample\\17.png\n",
      "D:\\Documents\\Classes\\CS231n\\cs231n_Project\\data\\sample\\18.png\n",
      "D:\\Documents\\Classes\\CS231n\\cs231n_Project\\data\\sample\\19.png\n",
      "D:\\Documents\\Classes\\CS231n\\cs231n_Project\\data\\sample\\20.png\n",
      "D:\\Documents\\Classes\\CS231n\\cs231n_Project\\data\\sample\\21.png\n",
      "D:\\Documents\\Classes\\CS231n\\cs231n_Project\\data\\sample\\22.png\n",
      "D:\\Documents\\Classes\\CS231n\\cs231n_Project\\data\\sample\\23.png\n"
     ]
    }
   ],
   "source": [
    "for file in os.listdir(dir):\n",
    "    print(os.path.join(dir,file))\n",
    "    pic = Image.open(os.path.join(dir,file));\n",
    "    pic.show()\n",
    "    "
   ]
  },
  {
   "cell_type": "code",
   "execution_count": null,
   "metadata": {},
   "outputs": [],
   "source": []
  }
 ],
 "metadata": {
  "kernelspec": {
   "display_name": "Python 3",
   "language": "python",
   "name": "python3"
  },
  "language_info": {
   "codemirror_mode": {
    "name": "ipython",
    "version": 3
   },
   "file_extension": ".py",
   "mimetype": "text/x-python",
   "name": "python",
   "nbconvert_exporter": "python",
   "pygments_lexer": "ipython3",
   "version": "3.6.5"
  }
 },
 "nbformat": 4,
 "nbformat_minor": 1
}
