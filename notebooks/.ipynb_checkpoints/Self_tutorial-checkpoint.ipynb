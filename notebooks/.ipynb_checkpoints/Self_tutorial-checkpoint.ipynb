{
 "cells": [
  {
   "cell_type": "code",
   "execution_count": 2,
   "metadata": {},
   "outputs": [
    {
     "name": "stderr",
     "output_type": "stream",
     "text": [
      "C:\\Users\\zhaon\\Anaconda3\\envs\\tensorflow\\lib\\site-packages\\h5py\\__init__.py:36: FutureWarning: Conversion of the second argument of issubdtype from `float` to `np.floating` is deprecated. In future, it will be treated as `np.float64 == np.dtype(float).type`.\n",
      "  from ._conv import register_converters as _register_converters\n"
     ]
    },
    {
     "name": "stdout",
     "output_type": "stream",
     "text": [
      "Extracting /tmp/data/train-images-idx3-ubyte.gz\n",
      "Extracting /tmp/data/train-labels-idx1-ubyte.gz\n",
      "Extracting /tmp/data/t10k-images-idx3-ubyte.gz\n",
      "Extracting /tmp/data/t10k-labels-idx1-ubyte.gz\n"
     ]
    }
   ],
   "source": [
    "\"\"\" Auto Encoder Example.\n",
    "Build a 2 layers auto-encoder with TensorFlow to compress images to a\n",
    "lower latent space and then reconstruct them.\n",
    "References:\n",
    "    Y. LeCun, L. Bottou, Y. Bengio, and P. Haffner. \"Gradient-based\n",
    "    learning applied to document recognition.\" Proceedings of the IEEE,\n",
    "    86(11):2278-2324, November 1998.\n",
    "Links:\n",
    "    [MNIST Dataset] http://yann.lecun.com/exdb/mnist/\n",
    "Author: Aymeric Damien\n",
    "Project: https://github.com/aymericdamien/TensorFlow-Examples/\n",
    "\"\"\"\n",
    "from __future__ import division, print_function, absolute_import\n",
    "\n",
    "import tensorflow as tf\n",
    "import numpy as np\n",
    "import matplotlib.pyplot as plt\n",
    "from sklearn import datasets\n",
    "from sklearn.model_selection import train_test_split\n",
    "import matplotlib.pyplot as plt\n",
    "# Import MNIST data\n",
    "from tensorflow.examples.tutorials.mnist import input_data\n",
    "mnist = input_data.read_data_sets(\"/tmp/data/\", one_hot=True)\n"
   ]
  },
  {
   "cell_type": "code",
   "execution_count": 3,
   "metadata": {},
   "outputs": [
    {
     "name": "stdout",
     "output_type": "stream",
     "text": [
      "<class 'numpy.ndarray'>\n",
      "shapes\n",
      "(1024, 784)\n",
      "(1024, 10)\n",
      "WARNING:tensorflow:From <ipython-input-3-02b281cb9c54>:37: softmax_cross_entropy_with_logits (from tensorflow.python.ops.nn_ops) is deprecated and will be removed in a future version.\n",
      "Instructions for updating:\n",
      "\n",
      "Future major versions of TensorFlow will allow gradients to flow\n",
      "into the labels input on backprop by default.\n",
      "\n",
      "See tf.nn.softmax_cross_entropy_with_logits_v2.\n",
      "\n",
      "8.380619\n",
      "0.8747765\n",
      "0.17854789\n",
      "0.035409596\n",
      "0.008509499\n",
      "0.004370191\n",
      "0.0029892921\n",
      "0.0023601626\n",
      "0.001987823\n",
      "0.0017485265\n"
     ]
    }
   ],
   "source": [
    "X_train = mnist.train.images\n",
    "y_train = mnist.train.labels\n",
    "print(type(X_train))\n",
    "## make sure you only have one notebok at a time\n",
    "\n",
    "#some variable definitions\n",
    "batch_size = 1024;\n",
    "X_batch = X_train[0:batch_size,:]\n",
    "print('shapes')\n",
    "print(X_batch.shape)\n",
    "y_batch = y_train[0:batch_size];\n",
    "print(y_batch.shape)\n",
    "#step 1): define an architecture or graph\n",
    "\n",
    "# step 2): run the graph\n",
    "tf.reset_default_graph()\n",
    "# trian the graph with loss\n",
    "X = tf.placeholder(tf.float32, name = 'X')\n",
    "y = tf.placeholder(tf.float32);\n",
    "\n",
    "#without defining a model, we initialize some weights\n",
    "W = tf.Variable(tf.truncated_normal([256, 784]))\n",
    "b = tf.Variable(tf.zeros([256, 1]))\n",
    "\n",
    "W2 = tf.Variable(tf.truncated_normal([10, 256]))\n",
    "b2 = tf.Variable(tf.zeros([10, 1]))\n",
    "\n",
    "#propagate\n",
    "Z1 = tf.matmul(W,X)+b\n",
    "A1 = tf.nn.sigmoid(Z1);\n",
    "Z2 = tf.matmul(W2, A1)+b2; #logits\n",
    "scores = tf.nn.softmax(Z2);\n",
    "loss = tf.nn.softmax_cross_entropy_with_logits(\n",
    "    labels=y_batch,\n",
    "    logits=tf.transpose(Z2),\n",
    "    dim=-1,\n",
    "    name='loss'\n",
    ")\n",
    "loss = tf.reduce_mean(loss)\n",
    "optimizer = tf.train.AdamOptimizer(learning_rate = 1e-2)\n",
    "optimizer = optimizer.minimize(loss);\n",
    "#now try to put an optimizer here\n",
    "\n",
    "init = tf.global_variables_initializer();\n",
    "sess = tf.Session();\n",
    "sess.run(init);\n",
    "for i in range(100):\n",
    "    test = sess.run(optimizer, feed_dict={X: X_batch.T})\n",
    "    if(i%10 == 0):\n",
    "        print(sess.run(loss, feed_dict={X: X_batch.T}))\n",
    "\n",
    "sess.close()"
   ]
  },
  {
   "cell_type": "code",
   "execution_count": 4,
   "metadata": {},
   "outputs": [
    {
     "name": "stdout",
     "output_type": "stream",
     "text": [
      "(1024, 784)\n",
      "1.9637526\n",
      "0.55451405\n",
      "0.3485758\n",
      "0.2690735\n",
      "0.2402669\n",
      "0.23021637\n",
      "0.22654898\n",
      "0.22512028\n",
      "0.22442058\n",
      "0.22351784\n"
     ]
    }
   ],
   "source": [
    "## define model by layers\n",
    "tf.reset_default_graph()\n",
    "\n",
    "\n",
    "input_layer = tf.placeholder(tf.float32, shape = [batch_size, 784])\n",
    "print(input_layer.shape)\n",
    "Z1 = tf.layers.dense(input_layer, 100, activation = tf.nn.relu)\n",
    "Z2 = tf.layers.dense(Z1, 50, activation = tf.nn.relu);\n",
    "Z3 = tf.layers.dense(Z1, 10, activation = tf.nn.relu);\n",
    "loss = tf.nn.softmax_cross_entropy_with_logits(\n",
    "    labels=y_batch,\n",
    "    logits=Z3,\n",
    "    dim=-1,\n",
    "    name='loss'\n",
    ")\n",
    "loss = tf.reduce_mean(loss)\n",
    "optimizer = tf.train.AdamOptimizer(learning_rate = 1e-2)\n",
    "optimizer = optimizer.minimize(loss);\n",
    "\n",
    "init = tf.global_variables_initializer(); #this initializes ALL VARIABLES\n",
    "sess = tf.Session();\n",
    "sess.run(init);\n",
    "\n",
    "for i in range(100):\n",
    "    y = sess.run(optimizer, feed_dict={input_layer: X_batch});\n",
    "    if(i%10 == 0):\n",
    "        print(sess.run(loss, feed_dict={input_layer: X_batch}))\n",
    "\n"
   ]
  },
  {
   "cell_type": "code",
   "execution_count": 18,
   "metadata": {},
   "outputs": [
    {
     "name": "stdout",
     "output_type": "stream",
     "text": [
      "(1024, 784)\n",
      "(1024, 10)\n",
      "[[0.         0.         0.46774557 ... 0.4196779  0.2534288  0.        ]\n",
      " [0.         0.         0.06154364 ... 0.         0.15903503 0.11932039]\n",
      " [0.         0.         0.3032261  ... 0.         0.43501216 0.        ]\n",
      " ...\n",
      " [0.05798285 0.2645074  0.         ... 0.         0.         0.32512942]\n",
      " [0.         0.         0.35107762 ... 0.         0.         0.        ]\n",
      " [0.5505934  0.         0.49029753 ... 0.02822306 0.         0.14364314]]\n"
     ]
    }
   ],
   "source": [
    " ## now we encode a layer-based model INTO A FUNCTION\n",
    "\n",
    "def first_prop(X):\n",
    "    '''\n",
    "    we will need to run the session within the function to\n",
    "    generate the output...which we can feed elsewhere\n",
    "    '''\n",
    "    input_layer = tf.placeholder(tf.float32, shape = [batch_size, 784])\n",
    "    print(input_layer.shape)\n",
    "    Z1 = tf.layers.dense(input_layer, 100, activation = tf.nn.relu)\n",
    "    Z2 = tf.layers.dense(Z1, 50, activation = tf.nn.relu);\n",
    "    Z3 = tf.layers.dense(Z1, 10, activation = tf.nn.relu);\n",
    "\n",
    "    init = tf.global_variables_initializer(); #this initializes ALL VARIABLES\n",
    "    sess = tf.Session();\n",
    "    sess.run(init);\n",
    "    y = sess.run(Z3, feed_dict={input_layer: X})\n",
    "    return y; #return an intermediate layer\n",
    "    \n",
    "y = first_prop(X_batch);\n",
    "print(y.shape)\n",
    "print(y)"
   ]
  },
  {
   "cell_type": "code",
   "execution_count": 21,
   "metadata": {},
   "outputs": [
    {
     "name": "stdout",
     "output_type": "stream",
     "text": [
      "(1024, 10)\n",
      "2.2992291\n"
     ]
    }
   ],
   "source": [
    "## now we need to be able to train a model with multiple individual modules\n",
    "# not sure if starting and closing multiple sessions will make sense;\n",
    "\n",
    "def second_prop(input_from_first):\n",
    "    input_layer = tf.placeholder(tf.float32, shape = [batch_size, 10])\n",
    "    Z1 = tf.layers.dense(input_layer, 10, activation = tf.nn.relu)\n",
    "    init = tf.global_variables_initializer(); #this initializes ALL VARIABLES\n",
    "    sess = tf.Session();\n",
    "    sess.run(init);\n",
    "    y = sess.run(Z1, feed_dict={input_layer:input_from_first});\n",
    "    return y; #return an intermediate layer\n",
    "\n",
    "second_out = second_prop(y);\n",
    "\n",
    "print(second_out.shape)\n",
    "\n",
    "def run_loss(second_prop_out, y_batch):\n",
    "    '''\n",
    "    module based loss optimization run does not appear to work \n",
    "    (primarily because we're opening and closing\n",
    "    sessions in every modules so the graph gets wiped out each time)\n",
    "    '''\n",
    "    \n",
    "    loss = tf.nn.softmax_cross_entropy_with_logits(\n",
    "        labels=y_batch,\n",
    "        logits=second_prop_out,\n",
    "        dim=-1,\n",
    "        name='loss'\n",
    "    )\n",
    "    loss = tf.reduce_mean(loss) \n",
    "    sess = tf.Session();\n",
    "    sess.run(init);\n",
    "    y = sess.run(loss);\n",
    "    sess.close();\n",
    "    return y;\n",
    "\n",
    "print(run_loss(second_out, y_batch))"
   ]
  },
  {
   "cell_type": "code",
   "execution_count": null,
   "metadata": {},
   "outputs": [],
   "source": [
    "''' issue to solve is that if we define stuff in a layer, we will get an initialization problem'''\n",
    "\n",
    "def prop1():\n",
    "    input_layer = tf.placeholder(tf.float32, shape = [batch_size, 784])\n",
    "    print(input_layer.shape)\n",
    "    Z1 = tf.layers.dense(input_layer, 100, activation = tf.nn.relu)\n",
    "    Z2 = tf.layers.dense(Z1, 50, activation = tf.nn.relu);\n",
    "    Z3 = tf.layers.dense(Z1, 10, activation = tf.nn.relu);  \n",
    "    \n",
    "def prop2():\n",
    "    Z1 = tf.layers.dense(input_layer, 100, activation = tf.nn.relu)\n",
    "    Z2 = tf.layers.dense(Z1, 50, activation = tf.nn.relu);\n",
    "    Z3 = tf.layers.dense(Z1, 10, activation = tf.nn.relu);\n",
    "    \n",
    "def loss_optimization():\n",
    "    "
   ]
  },
  {
   "cell_type": "code",
   "execution_count": null,
   "metadata": {},
   "outputs": [],
   "source": []
  }
 ],
 "metadata": {
  "kernelspec": {
   "display_name": "Python 3",
   "language": "python",
   "name": "python3"
  },
  "language_info": {
   "codemirror_mode": {
    "name": "ipython",
    "version": 3
   },
   "file_extension": ".py",
   "mimetype": "text/x-python",
   "name": "python",
   "nbconvert_exporter": "python",
   "pygments_lexer": "ipython3",
   "version": "3.6.5"
  }
 },
 "nbformat": 4,
 "nbformat_minor": 2
}
