{
 "cells": [
  {
   "cell_type": "code",
   "execution_count": 1,
   "metadata": {},
   "outputs": [
    {
     "name": "stderr",
     "output_type": "stream",
     "text": [
      "C:\\Users\\zhaon\\Anaconda3\\envs\\tensorflow\\lib\\site-packages\\h5py\\__init__.py:36: FutureWarning: Conversion of the second argument of issubdtype from `float` to `np.floating` is deprecated. In future, it will be treated as `np.float64 == np.dtype(float).type`.\n",
      "  from ._conv import register_converters as _register_converters\n"
     ]
    }
   ],
   "source": [
    "import tensorflow as tf\n",
    "import numpy as np\n"
   ]
  },
  {
   "cell_type": "code",
   "execution_count": 94,
   "metadata": {},
   "outputs": [
    {
     "name": "stdout",
     "output_type": "stream",
     "text": [
      "(50000, 32, 32, 3)\n",
      "(50000, 1)\n"
     ]
    }
   ],
   "source": [
    "#get cifar10\n",
    "(x_train, y_train), (x_test, y_test) = tf.keras.datasets.cifar10.load_data();\n",
    "print(x_train.shape)\n",
    "print(y_train.shape)\n"
   ]
  },
  {
   "cell_type": "code",
   "execution_count": 44,
   "metadata": {},
   "outputs": [
    {
     "name": "stdout",
     "output_type": "stream",
     "text": [
      "(50000, 10)\n",
      "<class 'numpy.ndarray'>\n"
     ]
    }
   ],
   "source": [
    "from sklearn.preprocessing import OneHotEncoder\n",
    "from sklearn.preprocessing import scale\n",
    "onehot_encoder = OneHotEncoder(sparse=False)\n",
    "y_train_ohe = onehot_encoder.fit_transform(y_train);\n",
    "print(y_train_ohe.shape)\n",
    "print(type(y_train_ohe))\n",
    "y_test_ohe =onehot_encoder.fit_transform(y_test); \n",
    "x_train = scale(x_train, axis = 0);\n",
    "x_test = scale(x_test, axis = 0);"
   ]
  },
  {
   "cell_type": "code",
   "execution_count": null,
   "metadata": {},
   "outputs": [
    {
     "name": "stdout",
     "output_type": "stream",
     "text": [
      "50\n",
      "1.8524355\n",
      "1.8524355\n",
      "1.7374415\n",
      "1.7374415\n",
      "1.6425681\n",
      "1.6425681\n",
      "1.5757244\n",
      "1.5757244\n",
      "1.5284251\n",
      "1.5284251\n",
      "1.4797028\n",
      "1.4797028\n",
      "1.4434774\n",
      "1.4434774\n",
      "1.4025108\n",
      "1.4025108\n"
     ]
    }
   ],
   "source": [
    "#take a batch\n",
    "batch_size = 1000\n",
    "[N,H,W,C] = x_train.shape;\n",
    "num_batches = int(N/batch_size);\n",
    "\n",
    "\n",
    "# define a resnet architecture using layers api\n",
    "tf.reset_default_graph()\n",
    "X = tf.placeholder(tf.float32, shape = [None, 32, 32, 3], name = 'X')\n",
    "input_labels = tf.placeholder(tf.int32, shape = [None, 10], name = 'y')\n",
    "inputs = X;\n",
    "for i in range(30):\n",
    "    filters = 3; kernel_size = (3,3);\n",
    "    z1 = tf.layers.conv2d(inputs, filters, kernel_size, padding = 'same');\n",
    "    #z2 = tf.layers.max_pooling2d(z1, (2,2), strides = (1,1))\n",
    "    z3 = tf.layers.batch_normalization(z1); \n",
    "    #input goes before relu\n",
    "    if(i%2 == 0):\n",
    "        z4 = tf.nn.relu(z3+inputs);\n",
    "    else:\n",
    "        z4 = tf.nn.relu(z3);\n",
    "\n",
    "    ## to make this a resnet, just add in the inputs here (f(x)+x); \n",
    "    # the challenge is that the input has been conved and maxpooled..\n",
    "    #doesn't seem like resnetting the conv layers works\n",
    "    inputs = z4;\n",
    "\n",
    "        \n",
    "\n",
    "flat = tf.layers.flatten(z4);\n",
    "\n",
    "d1 = tf.layers.dense(flat, 100, activation = tf.nn.relu);\n",
    "\n",
    "scores = tf.layers.dense(d1, 10);\n",
    "\n",
    "loss= tf.nn.softmax_cross_entropy_with_logits_v2(labels = input_labels, logits = scores);\n",
    "loss = tf.reduce_mean(loss);\n",
    "optimizer = tf.train.AdamOptimizer();\n",
    "optimizer = optimizer.minimize(loss);\n",
    "\n",
    "init = tf.global_variables_initializer()\n",
    "sess = tf.Session();\n",
    "sess.run(init)\n",
    "epochs = 20; print(num_batches)\n",
    "for i in range(epochs):\n",
    "    for j in range(num_batches):\n",
    "        X_batch = x_train[j*batch_size:(j+1)*batch_size, :, :, :];\n",
    "        y_batch = y_train_ohe[j*batch_size:(j+1)*batch_size, :];\n",
    "        y_batch_flat = y_train[j*batch_size:(j+1)*batch_size, :]        \n",
    "        sess.run(optimizer, feed_dict = {X: X_batch, input_labels: y_batch})\n",
    "        #if(j == num_batches-1): print(sess.run(loss, feed_dict = {X: X_batch, input_labels: y_batch}))\n",
    "\n",
    "\n",
    "    print(sess.run(loss, feed_dict = {X: X_batch, input_labels: y_batch}))\n",
    "        \n"
   ]
  },
  {
   "cell_type": "code",
   "execution_count": 96,
   "metadata": {},
   "outputs": [
    {
     "name": "stdout",
     "output_type": "stream",
     "text": [
      "4.8761163\n",
      "(1000, 10)\n",
      "1.0\n",
      "(1000, 1)\n",
      "(1000,)\n"
     ]
    }
   ],
   "source": [
    "#test loss\n",
    "print(sess.run(loss, feed_dict = {X: x_test, input_labels: y_test_ohe}))\n",
    "\n",
    "print(y_batch.shape)\n",
    "#get test accuracy;\n",
    "test_scores = sess.run(scores, feed_dict = {X: x_test, input_labels: y_test_ohe});\n",
    "test_labels = np.argmax(test_scores, axis = 1);\n",
    "print(0.001*np.sum(test_labels == np.reshape(y_test_flat, (10000, ))))\n",
    "\n",
    "print(y_batch_flat.shape)\n",
    "print(test_labels.shape)"
   ]
  },
  {
   "cell_type": "code",
   "execution_count": null,
   "metadata": {},
   "outputs": [],
   "source": []
  }
 ],
 "metadata": {
  "kernelspec": {
   "display_name": "Python 3",
   "language": "python",
   "name": "python3"
  },
  "language_info": {
   "codemirror_mode": {
    "name": "ipython",
    "version": 3
   },
   "file_extension": ".py",
   "mimetype": "text/x-python",
   "name": "python",
   "nbconvert_exporter": "python",
   "pygments_lexer": "ipython3",
   "version": "3.6.5"
  }
 },
 "nbformat": 4,
 "nbformat_minor": 2
}
